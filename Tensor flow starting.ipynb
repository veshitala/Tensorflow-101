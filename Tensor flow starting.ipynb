{
 "cells": [
  {
   "cell_type": "code",
   "execution_count": 1,
   "metadata": {},
   "outputs": [],
   "source": [
    "import tensorflow as tf\n",
    "import matplotlib.pyplot as plt\n",
    "\n"
   ]
  },
  {
   "cell_type": "markdown",
   "metadata": {},
   "source": [
    "#### This is code to See your Visualization Within your Jupyter Notebokk\n",
    "### Code source is \n",
    "[click](https://github.com/machinelearning147/MachineLearning-YouTube/blob/master/src/Visualizing%20TensorFlow%20Graphs.ipynb)"
   ]
  },
  {
   "cell_type": "code",
   "execution_count": 2,
   "metadata": {},
   "outputs": [],
   "source": [
    "import numpy as np\n",
    "from IPython.display import clear_output, Image, display, HTML\n",
    "\n",
    "def strip_consts(graph_def, max_const_size=32):\n",
    "    \"\"\"Strip large constant values from graph_def.\"\"\"\n",
    "    strip_def = tf.GraphDef()\n",
    "    for n0 in graph_def.node:\n",
    "        n = strip_def.node.add() \n",
    "        n.MergeFrom(n0)\n",
    "        if n.op == 'Const':\n",
    "            tensor = n.attr['value'].tensor\n",
    "            size = len(tensor.tensor_content)\n",
    "            if size > max_const_size:\n",
    "                tensor.tensor_content = \"<stripped %d bytes>\"%size\n",
    "    return strip_def\n",
    "\n",
    "def show_graph(graph_def, max_const_size=32):\n",
    "    \"\"\"Visualize TensorFlow graph.\"\"\"\n",
    "    if hasattr(graph_def, 'as_graph_def'):\n",
    "        graph_def = graph_def.as_graph_def()\n",
    "    strip_def = strip_consts(graph_def, max_const_size=max_const_size)\n",
    "    code = \"\"\"\n",
    "        <script src=\"//cdnjs.cloudflare.com/ajax/libs/polymer/0.3.3/platform.js\"></script>\n",
    "        <script>\n",
    "          function load() {{\n",
    "            document.getElementById(\"{id}\").pbtxt = {data};\n",
    "          }}\n",
    "        </script>\n",
    "        <link rel=\"import\" href=\"https://tensorboard.appspot.com/tf-graph-basic.build.html\" onload=load()>\n",
    "        <div style=\"height:600px\">\n",
    "          <tf-graph-basic id=\"{id}\"></tf-graph-basic>\n",
    "        </div>\n",
    "    \"\"\".format(data=repr(str(strip_def)), id='graph'+str(np.random.rand()))\n",
    "\n",
    "    iframe = \"\"\"\n",
    "        <iframe seamless style=\"width:1200px;height:620px;border:0\" srcdoc=\"{}\"></iframe>\n",
    "    \"\"\".format(code.replace('\"', '&quot;'))\n",
    "    display(HTML(iframe))"
   ]
  },
  {
   "cell_type": "code",
   "execution_count": 5,
   "metadata": {},
   "outputs": [
    {
     "data": {
      "text/plain": [
       "'Tensorflow version is1.8.0'"
      ]
     },
     "metadata": {},
     "output_type": "display_data"
    }
   ],
   "source": [
    "## Check Version of your Tensorflow\n",
    "display(\"Tensorflow version is\" + (tf.__version__))\n"
   ]
  },
  {
   "cell_type": "code",
   "execution_count": 7,
   "metadata": {},
   "outputs": [
    {
     "data": {
      "text/plain": [
       "'H:\\\\Tensorflow-101'"
      ]
     },
     "execution_count": 7,
     "metadata": {},
     "output_type": "execute_result"
    }
   ],
   "source": [
    "pwd  ## To check you current Working Directory"
   ]
  },
  {
   "cell_type": "markdown",
   "metadata": {},
   "source": [
    "### Building, Running, and Visualizing The tensorflow Model \n",
    "#### To access full Tutorial \n",
    "[click](https://app.pluralsight.com/library/courses/tensorflow-understanding-foundations/table-of-contents)\n"
   ]
  },
  {
   "cell_type": "code",
   "execution_count": 13,
   "metadata": {},
   "outputs": [],
   "source": [
    "g = tf.Graph()      ## Initialize a graph \n",
    "with g.as_default():\n",
    "    \n",
    "    ### Let's define some constant\n",
    "\n",
    "    a = tf.constant(6 , name = 'constant_a')\n",
    "    b = tf.constant(3 , name = 'constant_b')\n",
    "    c = tf.constant(10 , name = 'constant_c')\n",
    "    d = tf.constant(5 , name = 'constant_d')\n",
    "\n",
    "    ## Create Some operations on them\n",
    "\n",
    "    mul = tf.multiply(a ,b  ,name='mul')\n",
    "    div = tf.div(c, d ,name='div')\n",
    "    addn = tf.add_n([mul ,div] , name='addn')\n",
    "    "
   ]
  },
  {
   "cell_type": "markdown",
   "metadata": {},
   "source": [
    "### All these steps constructed A graph in tf  but it is not executed yet"
   ]
  },
  {
   "cell_type": "markdown",
   "metadata": {},
   "source": [
    "#### Running and graph\n",
    "\n",
    "#### To get Actual values of computation we have to run the graph that is build \n",
    "#### In tensorflow first we built a graph then run it on multiple instances\n",
    "\n",
    "### We run tf.Session to make sesson object which will spervise whole process of execution"
   ]
  },
  {
   "cell_type": "code",
   "execution_count": 10,
   "metadata": {},
   "outputs": [],
   "source": [
    "sess = tf.Session()"
   ]
  },
  {
   "cell_type": "code",
   "execution_count": 11,
   "metadata": {},
   "outputs": [
    {
     "data": {
      "text/plain": [
       "20"
      ]
     },
     "metadata": {},
     "output_type": "display_data"
    },
    {
     "data": {
      "text/plain": [
       "18"
      ]
     },
     "metadata": {},
     "output_type": "display_data"
    },
    {
     "data": {
      "text/plain": [
       "2"
      ]
     },
     "metadata": {},
     "output_type": "display_data"
    }
   ],
   "source": [
    "display(sess.run(addn))\n",
    "display(sess.run(mul))\n",
    "display(sess.run(div))\n"
   ]
  },
  {
   "cell_type": "markdown",
   "metadata": {},
   "source": [
    "### We can call seeson to run on node and graph will run only till that node not beyond that node"
   ]
  },
  {
   "cell_type": "code",
   "execution_count": 16,
   "metadata": {},
   "outputs": [
    {
     "data": {
      "text/html": [
       "\n",
       "        <iframe seamless style=\"width:1200px;height:620px;border:0\" srcdoc=\"\n",
       "        <script src=&quot;//cdnjs.cloudflare.com/ajax/libs/polymer/0.3.3/platform.js&quot;></script>\n",
       "        <script>\n",
       "          function load() {\n",
       "            document.getElementById(&quot;graph0.4036940134658079&quot;).pbtxt = 'node {\\n  name: &quot;constant_a&quot;\\n  op: &quot;Const&quot;\\n  attr {\\n    key: &quot;dtype&quot;\\n    value {\\n      type: DT_INT32\\n    }\\n  }\\n  attr {\\n    key: &quot;value&quot;\\n    value {\\n      tensor {\\n        dtype: DT_INT32\\n        tensor_shape {\\n        }\\n        int_val: 6\\n      }\\n    }\\n  }\\n}\\nnode {\\n  name: &quot;constant_b&quot;\\n  op: &quot;Const&quot;\\n  attr {\\n    key: &quot;dtype&quot;\\n    value {\\n      type: DT_INT32\\n    }\\n  }\\n  attr {\\n    key: &quot;value&quot;\\n    value {\\n      tensor {\\n        dtype: DT_INT32\\n        tensor_shape {\\n        }\\n        int_val: 3\\n      }\\n    }\\n  }\\n}\\nnode {\\n  name: &quot;constant_c&quot;\\n  op: &quot;Const&quot;\\n  attr {\\n    key: &quot;dtype&quot;\\n    value {\\n      type: DT_INT32\\n    }\\n  }\\n  attr {\\n    key: &quot;value&quot;\\n    value {\\n      tensor {\\n        dtype: DT_INT32\\n        tensor_shape {\\n        }\\n        int_val: 10\\n      }\\n    }\\n  }\\n}\\nnode {\\n  name: &quot;constant_d&quot;\\n  op: &quot;Const&quot;\\n  attr {\\n    key: &quot;dtype&quot;\\n    value {\\n      type: DT_INT32\\n    }\\n  }\\n  attr {\\n    key: &quot;value&quot;\\n    value {\\n      tensor {\\n        dtype: DT_INT32\\n        tensor_shape {\\n        }\\n        int_val: 5\\n      }\\n    }\\n  }\\n}\\nnode {\\n  name: &quot;mul&quot;\\n  op: &quot;Mul&quot;\\n  input: &quot;constant_a&quot;\\n  input: &quot;constant_b&quot;\\n  attr {\\n    key: &quot;T&quot;\\n    value {\\n      type: DT_INT32\\n    }\\n  }\\n}\\nnode {\\n  name: &quot;div&quot;\\n  op: &quot;FloorDiv&quot;\\n  input: &quot;constant_c&quot;\\n  input: &quot;constant_d&quot;\\n  attr {\\n    key: &quot;T&quot;\\n    value {\\n      type: DT_INT32\\n    }\\n  }\\n}\\nnode {\\n  name: &quot;addn&quot;\\n  op: &quot;AddN&quot;\\n  input: &quot;mul&quot;\\n  input: &quot;div&quot;\\n  attr {\\n    key: &quot;N&quot;\\n    value {\\n      i: 2\\n    }\\n  }\\n  attr {\\n    key: &quot;T&quot;\\n    value {\\n      type: DT_INT32\\n    }\\n  }\\n}\\n';\n",
       "          }\n",
       "        </script>\n",
       "        <link rel=&quot;import&quot; href=&quot;https://tensorboard.appspot.com/tf-graph-basic.build.html&quot; onload=load()>\n",
       "        <div style=&quot;height:600px&quot;>\n",
       "          <tf-graph-basic id=&quot;graph0.4036940134658079&quot;></tf-graph-basic>\n",
       "        </div>\n",
       "    \"></iframe>\n",
       "    "
      ],
      "text/plain": [
       "<IPython.core.display.HTML object>"
      ]
     },
     "metadata": {},
     "output_type": "display_data"
    }
   ],
   "source": [
    "tf.summary.FileWriter(\"logs\", g).close()  ## Open the graph\n",
    "show_graph(g) ## By running function and closing it simultainiously\n",
    "sess.close()\n",
    "### Close the session its good habit"
   ]
  },
  {
   "cell_type": "code",
   "execution_count": 21,
   "metadata": {},
   "outputs": [],
   "source": [
    "g = tf.Graph()      ## Initialize a graph \n",
    "with g.as_default():\n",
    "    \n",
    "    ## Define Some constant\n",
    "    \n",
    "    a = tf.constant(6.5 , name = \"constant_a\")\n",
    "    b = tf.constant(3.4 , name = \"constant_b\")\n",
    "    c = tf.constant(3.0 , name = \"constant_c\")\n",
    "    d = tf.constant(100.2 , name = \"constant_d\")\n",
    "    \n",
    "    ##Do some calculations on them \n",
    "    \n",
    "    square = tf.square(a , name = 'square_a')\n",
    "    power = tf.pow(b,c,name = \"pow_b_c\")\n",
    "    sqrt = tf.sqrt(d,name = 'sqrt_d')\n",
    "    final_sum = tf.add_n([square , power , sqrt] , name = 'final_sum')\n",
    "    another_sum = tf.add_n([a,b,c,d,power] , name='another')\n",
    "    sess = tf.Session()\n",
    "    "
   ]
  },
  {
   "cell_type": "markdown",
   "metadata": {},
   "source": [
    "### There are many more mathe operation are there explore them in Tensorflow documentation"
   ]
  },
  {
   "cell_type": "code",
   "execution_count": 22,
   "metadata": {},
   "outputs": [
    {
     "data": {
      "text/plain": [
       "42.25"
      ]
     },
     "metadata": {},
     "output_type": "display_data"
    },
    {
     "data": {
      "text/plain": [
       "39.304005"
      ]
     },
     "metadata": {},
     "output_type": "display_data"
    },
    {
     "data": {
      "text/plain": [
       "10.009995"
      ]
     },
     "metadata": {},
     "output_type": "display_data"
    },
    {
     "data": {
      "text/plain": [
       "91.563995"
      ]
     },
     "metadata": {},
     "output_type": "display_data"
    }
   ],
   "source": [
    "display(sess.run(square))\n",
    "display(sess.run(power))\n",
    "display(sess.run(sqrt))\n",
    "display(sess.run(final_sum))"
   ]
  },
  {
   "cell_type": "code",
   "execution_count": 23,
   "metadata": {},
   "outputs": [
    {
     "data": {
      "text/html": [
       "\n",
       "        <iframe seamless style=\"width:1200px;height:620px;border:0\" srcdoc=\"\n",
       "        <script src=&quot;//cdnjs.cloudflare.com/ajax/libs/polymer/0.3.3/platform.js&quot;></script>\n",
       "        <script>\n",
       "          function load() {\n",
       "            document.getElementById(&quot;graph0.6787278915169276&quot;).pbtxt = 'node {\\n  name: &quot;constant_a&quot;\\n  op: &quot;Const&quot;\\n  attr {\\n    key: &quot;dtype&quot;\\n    value {\\n      type: DT_FLOAT\\n    }\\n  }\\n  attr {\\n    key: &quot;value&quot;\\n    value {\\n      tensor {\\n        dtype: DT_FLOAT\\n        tensor_shape {\\n        }\\n        float_val: 6.5\\n      }\\n    }\\n  }\\n}\\nnode {\\n  name: &quot;constant_b&quot;\\n  op: &quot;Const&quot;\\n  attr {\\n    key: &quot;dtype&quot;\\n    value {\\n      type: DT_FLOAT\\n    }\\n  }\\n  attr {\\n    key: &quot;value&quot;\\n    value {\\n      tensor {\\n        dtype: DT_FLOAT\\n        tensor_shape {\\n        }\\n        float_val: 3.4000000953674316\\n      }\\n    }\\n  }\\n}\\nnode {\\n  name: &quot;constant_c&quot;\\n  op: &quot;Const&quot;\\n  attr {\\n    key: &quot;dtype&quot;\\n    value {\\n      type: DT_FLOAT\\n    }\\n  }\\n  attr {\\n    key: &quot;value&quot;\\n    value {\\n      tensor {\\n        dtype: DT_FLOAT\\n        tensor_shape {\\n        }\\n        float_val: 3.0\\n      }\\n    }\\n  }\\n}\\nnode {\\n  name: &quot;constant_d&quot;\\n  op: &quot;Const&quot;\\n  attr {\\n    key: &quot;dtype&quot;\\n    value {\\n      type: DT_FLOAT\\n    }\\n  }\\n  attr {\\n    key: &quot;value&quot;\\n    value {\\n      tensor {\\n        dtype: DT_FLOAT\\n        tensor_shape {\\n        }\\n        float_val: 100.19999694824219\\n      }\\n    }\\n  }\\n}\\nnode {\\n  name: &quot;square_a&quot;\\n  op: &quot;Square&quot;\\n  input: &quot;constant_a&quot;\\n  attr {\\n    key: &quot;T&quot;\\n    value {\\n      type: DT_FLOAT\\n    }\\n  }\\n}\\nnode {\\n  name: &quot;pow_b_c&quot;\\n  op: &quot;Pow&quot;\\n  input: &quot;constant_b&quot;\\n  input: &quot;constant_c&quot;\\n  attr {\\n    key: &quot;T&quot;\\n    value {\\n      type: DT_FLOAT\\n    }\\n  }\\n}\\nnode {\\n  name: &quot;sqrt_d&quot;\\n  op: &quot;Sqrt&quot;\\n  input: &quot;constant_d&quot;\\n  attr {\\n    key: &quot;T&quot;\\n    value {\\n      type: DT_FLOAT\\n    }\\n  }\\n}\\nnode {\\n  name: &quot;final_sum&quot;\\n  op: &quot;AddN&quot;\\n  input: &quot;square_a&quot;\\n  input: &quot;pow_b_c&quot;\\n  input: &quot;sqrt_d&quot;\\n  attr {\\n    key: &quot;N&quot;\\n    value {\\n      i: 3\\n    }\\n  }\\n  attr {\\n    key: &quot;T&quot;\\n    value {\\n      type: DT_FLOAT\\n    }\\n  }\\n}\\nnode {\\n  name: &quot;another&quot;\\n  op: &quot;AddN&quot;\\n  input: &quot;constant_a&quot;\\n  input: &quot;constant_b&quot;\\n  input: &quot;constant_c&quot;\\n  input: &quot;constant_d&quot;\\n  input: &quot;pow_b_c&quot;\\n  attr {\\n    key: &quot;N&quot;\\n    value {\\n      i: 5\\n    }\\n  }\\n  attr {\\n    key: &quot;T&quot;\\n    value {\\n      type: DT_FLOAT\\n    }\\n  }\\n}\\n';\n",
       "          }\n",
       "        </script>\n",
       "        <link rel=&quot;import&quot; href=&quot;https://tensorboard.appspot.com/tf-graph-basic.build.html&quot; onload=load()>\n",
       "        <div style=&quot;height:600px&quot;>\n",
       "          <tf-graph-basic id=&quot;graph0.6787278915169276&quot;></tf-graph-basic>\n",
       "        </div>\n",
       "    \"></iframe>\n",
       "    "
      ],
      "text/plain": [
       "<IPython.core.display.HTML object>"
      ]
     },
     "metadata": {},
     "output_type": "display_data"
    }
   ],
   "source": [
    "tf.summary.FileWriter(\"logs\", g).close()  ## Open the graph\n",
    "show_graph(g) ## By running function and closing it simultainiously\n",
    "sess.close()"
   ]
  },
  {
   "cell_type": "markdown",
   "metadata": {},
   "source": [
    "### Rank of tensor \n"
   ]
  },
  {
   "cell_type": "code",
   "execution_count": 24,
   "metadata": {},
   "outputs": [],
   "source": [
    "sess = tf.Session()\n",
    "Zerod =  tf.constant(5)"
   ]
  },
  {
   "cell_type": "code",
   "execution_count": 25,
   "metadata": {},
   "outputs": [
    {
     "data": {
      "text/plain": [
       "0"
      ]
     },
     "execution_count": 25,
     "metadata": {},
     "output_type": "execute_result"
    }
   ],
   "source": [
    "sess.run(tf.rank(Zerod))"
   ]
  },
  {
   "cell_type": "code",
   "execution_count": 26,
   "metadata": {},
   "outputs": [
    {
     "data": {
      "text/plain": [
       "1"
      ]
     },
     "execution_count": 26,
     "metadata": {},
     "output_type": "execute_result"
    }
   ],
   "source": [
    "oneD = tf.constant(['How' , 'are'  , 'you'])\n",
    "sess.run(tf.rank(oneD))"
   ]
  },
  {
   "cell_type": "code",
   "execution_count": 29,
   "metadata": {},
   "outputs": [
    {
     "data": {
      "text/plain": [
       "2"
      ]
     },
     "execution_count": 29,
     "metadata": {},
     "output_type": "execute_result"
    }
   ],
   "source": [
    "twoD =  tf.constant([[1.0 , 2.3] , [1.5,2.9]])\n",
    "sess.run(tf.rank(twoD))\n",
    "\n",
    "### So we can extend to n-dimension"
   ]
  },
  {
   "cell_type": "markdown",
   "metadata": {},
   "source": [
    "## Let's Explore some more mathematical operation on tensors"
   ]
  },
  {
   "cell_type": "code",
   "execution_count": 30,
   "metadata": {},
   "outputs": [],
   "source": [
    "g = tf.Graph()\n",
    "\n",
    "with g.as_default():\n",
    "\n",
    "    x = tf.constant([100,200,300] , name='x')\n",
    "    y = tf.constant([1,2,3] , name='y')\n",
    "    sum_x = tf.reduce_sum(x , name ='sum_x')\n",
    "    prod_y  =tf.reduce_prod(y , name='prod_y')\n",
    "\n",
    "    final_div = tf.div(sum_x , prod_y , name = 'final_div')\n",
    "    final_mean = tf.reduce_mean([sum_x , prod_y] ,name =\"final_mean\")\n",
    "\n",
    "    sess = tf.Session()"
   ]
  },
  {
   "cell_type": "code",
   "execution_count": 31,
   "metadata": {},
   "outputs": [
    {
     "data": {
      "text/plain": [
       "array([100, 200, 300])"
      ]
     },
     "metadata": {},
     "output_type": "display_data"
    },
    {
     "data": {
      "text/plain": [
       "array([1, 2, 3])"
      ]
     },
     "metadata": {},
     "output_type": "display_data"
    },
    {
     "data": {
      "text/plain": [
       "600"
      ]
     },
     "metadata": {},
     "output_type": "display_data"
    },
    {
     "data": {
      "text/plain": [
       "6"
      ]
     },
     "metadata": {},
     "output_type": "display_data"
    },
    {
     "data": {
      "text/plain": [
       "100"
      ]
     },
     "metadata": {},
     "output_type": "display_data"
    },
    {
     "data": {
      "text/plain": [
       "303"
      ]
     },
     "metadata": {},
     "output_type": "display_data"
    }
   ],
   "source": [
    "display(sess.run(x))\n",
    "display(sess.run(y))\n",
    "display(sess.run(sum_x))\n",
    "display(sess.run(prod_y))\n",
    "display(sess.run(final_div))\n",
    "display(sess.run(final_mean))"
   ]
  },
  {
   "cell_type": "code",
   "execution_count": 32,
   "metadata": {},
   "outputs": [
    {
     "data": {
      "text/html": [
       "\n",
       "        <iframe seamless style=\"width:1200px;height:620px;border:0\" srcdoc=\"\n",
       "        <script src=&quot;//cdnjs.cloudflare.com/ajax/libs/polymer/0.3.3/platform.js&quot;></script>\n",
       "        <script>\n",
       "          function load() {\n",
       "            document.getElementById(&quot;graph0.47678719310652096&quot;).pbtxt = 'node {\\n  name: &quot;x&quot;\\n  op: &quot;Const&quot;\\n  attr {\\n    key: &quot;dtype&quot;\\n    value {\\n      type: DT_INT32\\n    }\\n  }\\n  attr {\\n    key: &quot;value&quot;\\n    value {\\n      tensor {\\n        dtype: DT_INT32\\n        tensor_shape {\\n          dim {\\n            size: 3\\n          }\\n        }\\n        tensor_content: &quot;d\\\\000\\\\000\\\\000\\\\310\\\\000\\\\000\\\\000,\\\\001\\\\000\\\\000&quot;\\n      }\\n    }\\n  }\\n}\\nnode {\\n  name: &quot;y&quot;\\n  op: &quot;Const&quot;\\n  attr {\\n    key: &quot;dtype&quot;\\n    value {\\n      type: DT_INT32\\n    }\\n  }\\n  attr {\\n    key: &quot;value&quot;\\n    value {\\n      tensor {\\n        dtype: DT_INT32\\n        tensor_shape {\\n          dim {\\n            size: 3\\n          }\\n        }\\n        tensor_content: &quot;\\\\001\\\\000\\\\000\\\\000\\\\002\\\\000\\\\000\\\\000\\\\003\\\\000\\\\000\\\\000&quot;\\n      }\\n    }\\n  }\\n}\\nnode {\\n  name: &quot;Const&quot;\\n  op: &quot;Const&quot;\\n  attr {\\n    key: &quot;dtype&quot;\\n    value {\\n      type: DT_INT32\\n    }\\n  }\\n  attr {\\n    key: &quot;value&quot;\\n    value {\\n      tensor {\\n        dtype: DT_INT32\\n        tensor_shape {\\n          dim {\\n            size: 1\\n          }\\n        }\\n        int_val: 0\\n      }\\n    }\\n  }\\n}\\nnode {\\n  name: &quot;sum_x&quot;\\n  op: &quot;Sum&quot;\\n  input: &quot;x&quot;\\n  input: &quot;Const&quot;\\n  attr {\\n    key: &quot;T&quot;\\n    value {\\n      type: DT_INT32\\n    }\\n  }\\n  attr {\\n    key: &quot;Tidx&quot;\\n    value {\\n      type: DT_INT32\\n    }\\n  }\\n  attr {\\n    key: &quot;keep_dims&quot;\\n    value {\\n      b: false\\n    }\\n  }\\n}\\nnode {\\n  name: &quot;Const_1&quot;\\n  op: &quot;Const&quot;\\n  attr {\\n    key: &quot;dtype&quot;\\n    value {\\n      type: DT_INT32\\n    }\\n  }\\n  attr {\\n    key: &quot;value&quot;\\n    value {\\n      tensor {\\n        dtype: DT_INT32\\n        tensor_shape {\\n          dim {\\n            size: 1\\n          }\\n        }\\n        int_val: 0\\n      }\\n    }\\n  }\\n}\\nnode {\\n  name: &quot;prod_y&quot;\\n  op: &quot;Prod&quot;\\n  input: &quot;y&quot;\\n  input: &quot;Const_1&quot;\\n  attr {\\n    key: &quot;T&quot;\\n    value {\\n      type: DT_INT32\\n    }\\n  }\\n  attr {\\n    key: &quot;Tidx&quot;\\n    value {\\n      type: DT_INT32\\n    }\\n  }\\n  attr {\\n    key: &quot;keep_dims&quot;\\n    value {\\n      b: false\\n    }\\n  }\\n}\\nnode {\\n  name: &quot;final_div&quot;\\n  op: &quot;FloorDiv&quot;\\n  input: &quot;sum_x&quot;\\n  input: &quot;prod_y&quot;\\n  attr {\\n    key: &quot;T&quot;\\n    value {\\n      type: DT_INT32\\n    }\\n  }\\n}\\nnode {\\n  name: &quot;Rank/packed&quot;\\n  op: &quot;Pack&quot;\\n  input: &quot;sum_x&quot;\\n  input: &quot;prod_y&quot;\\n  attr {\\n    key: &quot;N&quot;\\n    value {\\n      i: 2\\n    }\\n  }\\n  attr {\\n    key: &quot;T&quot;\\n    value {\\n      type: DT_INT32\\n    }\\n  }\\n  attr {\\n    key: &quot;axis&quot;\\n    value {\\n      i: 0\\n    }\\n  }\\n}\\nnode {\\n  name: &quot;Rank&quot;\\n  op: &quot;Const&quot;\\n  attr {\\n    key: &quot;dtype&quot;\\n    value {\\n      type: DT_INT32\\n    }\\n  }\\n  attr {\\n    key: &quot;value&quot;\\n    value {\\n      tensor {\\n        dtype: DT_INT32\\n        tensor_shape {\\n        }\\n        int_val: 1\\n      }\\n    }\\n  }\\n}\\nnode {\\n  name: &quot;range/start&quot;\\n  op: &quot;Const&quot;\\n  attr {\\n    key: &quot;dtype&quot;\\n    value {\\n      type: DT_INT32\\n    }\\n  }\\n  attr {\\n    key: &quot;value&quot;\\n    value {\\n      tensor {\\n        dtype: DT_INT32\\n        tensor_shape {\\n        }\\n        int_val: 0\\n      }\\n    }\\n  }\\n}\\nnode {\\n  name: &quot;range/delta&quot;\\n  op: &quot;Const&quot;\\n  attr {\\n    key: &quot;dtype&quot;\\n    value {\\n      type: DT_INT32\\n    }\\n  }\\n  attr {\\n    key: &quot;value&quot;\\n    value {\\n      tensor {\\n        dtype: DT_INT32\\n        tensor_shape {\\n        }\\n        int_val: 1\\n      }\\n    }\\n  }\\n}\\nnode {\\n  name: &quot;range&quot;\\n  op: &quot;Range&quot;\\n  input: &quot;range/start&quot;\\n  input: &quot;Rank&quot;\\n  input: &quot;range/delta&quot;\\n  attr {\\n    key: &quot;Tidx&quot;\\n    value {\\n      type: DT_INT32\\n    }\\n  }\\n}\\nnode {\\n  name: &quot;final_mean/input&quot;\\n  op: &quot;Pack&quot;\\n  input: &quot;sum_x&quot;\\n  input: &quot;prod_y&quot;\\n  attr {\\n    key: &quot;N&quot;\\n    value {\\n      i: 2\\n    }\\n  }\\n  attr {\\n    key: &quot;T&quot;\\n    value {\\n      type: DT_INT32\\n    }\\n  }\\n  attr {\\n    key: &quot;axis&quot;\\n    value {\\n      i: 0\\n    }\\n  }\\n}\\nnode {\\n  name: &quot;final_mean&quot;\\n  op: &quot;Mean&quot;\\n  input: &quot;final_mean/input&quot;\\n  input: &quot;range&quot;\\n  attr {\\n    key: &quot;T&quot;\\n    value {\\n      type: DT_INT32\\n    }\\n  }\\n  attr {\\n    key: &quot;Tidx&quot;\\n    value {\\n      type: DT_INT32\\n    }\\n  }\\n  attr {\\n    key: &quot;keep_dims&quot;\\n    value {\\n      b: false\\n    }\\n  }\\n}\\n';\n",
       "          }\n",
       "        </script>\n",
       "        <link rel=&quot;import&quot; href=&quot;https://tensorboard.appspot.com/tf-graph-basic.build.html&quot; onload=load()>\n",
       "        <div style=&quot;height:600px&quot;>\n",
       "          <tf-graph-basic id=&quot;graph0.47678719310652096&quot;></tf-graph-basic>\n",
       "        </div>\n",
       "    \"></iframe>\n",
       "    "
      ],
      "text/plain": [
       "<IPython.core.display.HTML object>"
      ]
     },
     "metadata": {},
     "output_type": "display_data"
    }
   ],
   "source": [
    "tf.summary.FileWriter(\"logs\", g).close()  ## Open the graph\n",
    "show_graph(g) ## By running function and closing it simultainiously\n",
    "sess.close()"
   ]
  },
  {
   "cell_type": "code",
   "execution_count": 33,
   "metadata": {},
   "outputs": [],
   "source": [
    "import numpy as np"
   ]
  },
  {
   "cell_type": "markdown",
   "metadata": {},
   "source": [
    "#### Tensorflow is perfectly Compatible with NumPy\n",
    "\n",
    "#### Numpy Araays can be treated as tensors\n",
    "###  np.int32 == tf.int32"
   ]
  },
  {
   "cell_type": "code",
   "execution_count": 35,
   "metadata": {},
   "outputs": [],
   "source": [
    "sess = tf.Session()\n",
    "zeroD = np.array(30 ,dtype=np.int32)\n",
    "oneD = np.array([5.6,2.2,3.2,9.0] , dtype=np.float32)"
   ]
  },
  {
   "cell_type": "code",
   "execution_count": 36,
   "metadata": {},
   "outputs": [
    {
     "data": {
      "text/plain": [
       "0"
      ]
     },
     "metadata": {},
     "output_type": "display_data"
    },
    {
     "data": {
      "text/plain": [
       "array([], dtype=int32)"
      ]
     },
     "metadata": {},
     "output_type": "display_data"
    },
    {
     "data": {
      "text/plain": [
       "1"
      ]
     },
     "metadata": {},
     "output_type": "display_data"
    },
    {
     "data": {
      "text/plain": [
       "array([4])"
      ]
     },
     "metadata": {},
     "output_type": "display_data"
    }
   ],
   "source": [
    "display(sess.run(tf.rank(zeroD)))\n",
    "display(sess.run(tf.shape(zeroD)))\n",
    "display(sess.run(tf.rank(oneD)))\n",
    "display(sess.run(tf.shape(oneD)))"
   ]
  },
  {
   "cell_type": "markdown",
   "metadata": {},
   "source": [
    "### Tensor are n-dimensional array"
   ]
  },
  {
   "cell_type": "markdown",
   "metadata": {},
   "source": [
    "### PlaceHolders In tensorflow\n",
    "\n",
    "##### Placeholders hold the place for a Tensor whose value will be available to it only at runtime.\n"
   ]
  },
  {
   "cell_type": "code",
   "execution_count": 55,
   "metadata": {},
   "outputs": [],
   "source": [
    "g = tf.Graph()\n",
    "\n",
    "with g.as_default():   \n",
    "    \n",
    "    ## We defined some place holders \n",
    "\n",
    "    x = tf.placeholder(tf.int32 , shape=[3] , name = 'x')\n",
    "    y = tf.placeholder(tf.int32 , shape=[3] , name = 'y')\n",
    "\n",
    "    ## Done some math operation on them but there value is still unknown\n",
    "    sum_x = tf.reduce_sum(x , name ='sum_x')\n",
    "    prod_y  =tf.reduce_prod(y , name='prod_y')\n",
    "\n",
    "    final_div = tf.div(sum_x , prod_y , name = 'final_div')\n",
    "    final_mean = tf.reduce_mean([sum_x , prod_y] ,name =\"final_mean\")\n",
    "    sess =  tf.Session()"
   ]
  },
  {
   "cell_type": "code",
   "execution_count": 56,
   "metadata": {},
   "outputs": [
    {
     "data": {
      "text/html": [
       "\n",
       "        <iframe seamless style=\"width:1200px;height:620px;border:0\" srcdoc=\"\n",
       "        <script src=&quot;//cdnjs.cloudflare.com/ajax/libs/polymer/0.3.3/platform.js&quot;></script>\n",
       "        <script>\n",
       "          function load() {\n",
       "            document.getElementById(&quot;graph0.8093472167089703&quot;).pbtxt = 'node {\\n  name: &quot;x&quot;\\n  op: &quot;Placeholder&quot;\\n  attr {\\n    key: &quot;dtype&quot;\\n    value {\\n      type: DT_INT32\\n    }\\n  }\\n  attr {\\n    key: &quot;shape&quot;\\n    value {\\n      shape {\\n        dim {\\n          size: 3\\n        }\\n      }\\n    }\\n  }\\n}\\nnode {\\n  name: &quot;y&quot;\\n  op: &quot;Placeholder&quot;\\n  attr {\\n    key: &quot;dtype&quot;\\n    value {\\n      type: DT_INT32\\n    }\\n  }\\n  attr {\\n    key: &quot;shape&quot;\\n    value {\\n      shape {\\n        dim {\\n          size: 3\\n        }\\n      }\\n    }\\n  }\\n}\\nnode {\\n  name: &quot;Const&quot;\\n  op: &quot;Const&quot;\\n  attr {\\n    key: &quot;dtype&quot;\\n    value {\\n      type: DT_INT32\\n    }\\n  }\\n  attr {\\n    key: &quot;value&quot;\\n    value {\\n      tensor {\\n        dtype: DT_INT32\\n        tensor_shape {\\n          dim {\\n            size: 1\\n          }\\n        }\\n        int_val: 0\\n      }\\n    }\\n  }\\n}\\nnode {\\n  name: &quot;sum_x&quot;\\n  op: &quot;Sum&quot;\\n  input: &quot;x&quot;\\n  input: &quot;Const&quot;\\n  attr {\\n    key: &quot;T&quot;\\n    value {\\n      type: DT_INT32\\n    }\\n  }\\n  attr {\\n    key: &quot;Tidx&quot;\\n    value {\\n      type: DT_INT32\\n    }\\n  }\\n  attr {\\n    key: &quot;keep_dims&quot;\\n    value {\\n      b: false\\n    }\\n  }\\n}\\nnode {\\n  name: &quot;Const_1&quot;\\n  op: &quot;Const&quot;\\n  attr {\\n    key: &quot;dtype&quot;\\n    value {\\n      type: DT_INT32\\n    }\\n  }\\n  attr {\\n    key: &quot;value&quot;\\n    value {\\n      tensor {\\n        dtype: DT_INT32\\n        tensor_shape {\\n          dim {\\n            size: 1\\n          }\\n        }\\n        int_val: 0\\n      }\\n    }\\n  }\\n}\\nnode {\\n  name: &quot;prod_y&quot;\\n  op: &quot;Prod&quot;\\n  input: &quot;y&quot;\\n  input: &quot;Const_1&quot;\\n  attr {\\n    key: &quot;T&quot;\\n    value {\\n      type: DT_INT32\\n    }\\n  }\\n  attr {\\n    key: &quot;Tidx&quot;\\n    value {\\n      type: DT_INT32\\n    }\\n  }\\n  attr {\\n    key: &quot;keep_dims&quot;\\n    value {\\n      b: false\\n    }\\n  }\\n}\\nnode {\\n  name: &quot;final_div&quot;\\n  op: &quot;FloorDiv&quot;\\n  input: &quot;sum_x&quot;\\n  input: &quot;prod_y&quot;\\n  attr {\\n    key: &quot;T&quot;\\n    value {\\n      type: DT_INT32\\n    }\\n  }\\n}\\nnode {\\n  name: &quot;Rank/packed&quot;\\n  op: &quot;Pack&quot;\\n  input: &quot;sum_x&quot;\\n  input: &quot;prod_y&quot;\\n  attr {\\n    key: &quot;N&quot;\\n    value {\\n      i: 2\\n    }\\n  }\\n  attr {\\n    key: &quot;T&quot;\\n    value {\\n      type: DT_INT32\\n    }\\n  }\\n  attr {\\n    key: &quot;axis&quot;\\n    value {\\n      i: 0\\n    }\\n  }\\n}\\nnode {\\n  name: &quot;Rank&quot;\\n  op: &quot;Const&quot;\\n  attr {\\n    key: &quot;dtype&quot;\\n    value {\\n      type: DT_INT32\\n    }\\n  }\\n  attr {\\n    key: &quot;value&quot;\\n    value {\\n      tensor {\\n        dtype: DT_INT32\\n        tensor_shape {\\n        }\\n        int_val: 1\\n      }\\n    }\\n  }\\n}\\nnode {\\n  name: &quot;range/start&quot;\\n  op: &quot;Const&quot;\\n  attr {\\n    key: &quot;dtype&quot;\\n    value {\\n      type: DT_INT32\\n    }\\n  }\\n  attr {\\n    key: &quot;value&quot;\\n    value {\\n      tensor {\\n        dtype: DT_INT32\\n        tensor_shape {\\n        }\\n        int_val: 0\\n      }\\n    }\\n  }\\n}\\nnode {\\n  name: &quot;range/delta&quot;\\n  op: &quot;Const&quot;\\n  attr {\\n    key: &quot;dtype&quot;\\n    value {\\n      type: DT_INT32\\n    }\\n  }\\n  attr {\\n    key: &quot;value&quot;\\n    value {\\n      tensor {\\n        dtype: DT_INT32\\n        tensor_shape {\\n        }\\n        int_val: 1\\n      }\\n    }\\n  }\\n}\\nnode {\\n  name: &quot;range&quot;\\n  op: &quot;Range&quot;\\n  input: &quot;range/start&quot;\\n  input: &quot;Rank&quot;\\n  input: &quot;range/delta&quot;\\n  attr {\\n    key: &quot;Tidx&quot;\\n    value {\\n      type: DT_INT32\\n    }\\n  }\\n}\\nnode {\\n  name: &quot;final_mean/input&quot;\\n  op: &quot;Pack&quot;\\n  input: &quot;sum_x&quot;\\n  input: &quot;prod_y&quot;\\n  attr {\\n    key: &quot;N&quot;\\n    value {\\n      i: 2\\n    }\\n  }\\n  attr {\\n    key: &quot;T&quot;\\n    value {\\n      type: DT_INT32\\n    }\\n  }\\n  attr {\\n    key: &quot;axis&quot;\\n    value {\\n      i: 0\\n    }\\n  }\\n}\\nnode {\\n  name: &quot;final_mean&quot;\\n  op: &quot;Mean&quot;\\n  input: &quot;final_mean/input&quot;\\n  input: &quot;range&quot;\\n  attr {\\n    key: &quot;T&quot;\\n    value {\\n      type: DT_INT32\\n    }\\n  }\\n  attr {\\n    key: &quot;Tidx&quot;\\n    value {\\n      type: DT_INT32\\n    }\\n  }\\n  attr {\\n    key: &quot;keep_dims&quot;\\n    value {\\n      b: false\\n    }\\n  }\\n}\\n';\n",
       "          }\n",
       "        </script>\n",
       "        <link rel=&quot;import&quot; href=&quot;https://tensorboard.appspot.com/tf-graph-basic.build.html&quot; onload=load()>\n",
       "        <div style=&quot;height:600px&quot;>\n",
       "          <tf-graph-basic id=&quot;graph0.8093472167089703&quot;></tf-graph-basic>\n",
       "        </div>\n",
       "    \"></iframe>\n",
       "    "
      ],
      "text/plain": [
       "<IPython.core.display.HTML object>"
      ]
     },
     "metadata": {},
     "output_type": "display_data"
    }
   ],
   "source": [
    "tf.summary.FileWriter(\"logs\", g).close()  ## Open the graph\n",
    "show_graph(g) ## By running function and closing it simultainiously"
   ]
  },
  {
   "cell_type": "code",
   "execution_count": 57,
   "metadata": {},
   "outputs": [
    {
     "data": {
      "text/plain": [
       "'sum(x):'"
      ]
     },
     "metadata": {},
     "output_type": "display_data"
    },
    {
     "data": {
      "text/plain": [
       "600"
      ]
     },
     "metadata": {},
     "output_type": "display_data"
    },
    {
     "data": {
      "text/plain": [
       "'prod(y):'"
      ]
     },
     "metadata": {},
     "output_type": "display_data"
    },
    {
     "data": {
      "text/plain": [
       "6"
      ]
     },
     "metadata": {},
     "output_type": "display_data"
    },
    {
     "data": {
      "text/plain": [
       "'sum(x)/prod(y):'"
      ]
     },
     "metadata": {},
     "output_type": "display_data"
    },
    {
     "data": {
      "text/plain": [
       "10"
      ]
     },
     "metadata": {},
     "output_type": "display_data"
    }
   ],
   "source": [
    "display(\"sum(x):\" , sess.run(sum_x , feed_dict={x:[100,200,300]}))   ## we have to specify placeholder x\n",
    "\n",
    "display(\"prod(y):\" , sess.run(prod_y , feed_dict={y:[1,2,3]}))   ## we have to specify placeholder x\n",
    "\n",
    "display(\"sum(x)/prod(y):\" , sess.run(final_div , feed_dict={x:[10,20,30],y:[1,2,3]})) \n",
    "\n",
    "\n",
    "## we have to specify placeholder x and y both for this node beacuse this node requres both values to be executed\n",
    "sess.close()"
   ]
  },
  {
   "cell_type": "markdown",
   "metadata": {},
   "source": [
    "### Important Parameters  to fed into sess.run( )\n",
    "\n",
    "\n",
    "## Fetches and the Feed Dictionary\n",
    "\n",
    "#####  The fetches parameter always holds the node that you want to compute when you pass it to Session.run\n",
    " The fetches parameter indicates what it is that we want to compute, \n",
    "#####   And feed_dict is used to provide placeholders and variables to the sess.run\n",
    "\n",
    "\n",
    "#### sess.run(fetches , feed_dict)"
   ]
  },
  {
   "cell_type": "code",
   "execution_count": 68,
   "metadata": {},
   "outputs": [],
   "source": [
    "### y = Wx + b\n",
    "\n",
    "W = tf.constant([10,100] , name='const_w')\n",
    "\n",
    "## While instantiating these placeholders, we haven't specified a shape for the Tensor that it holds, \n",
    "### which means these placeholders can be Tensors of any shape.\n",
    "\n",
    "x = tf.placeholder(tf.int32 , name = 'x')\n",
    "b = tf.placeholder(tf.int32 , name = 'y')\n",
    "\n",
    "## operations\n",
    "\n",
    "Wx = tf.multiply(W , x , name=\"Wx\") ##every element of W will be multiplied by every element of x. \n",
    "                                    ##W and x have to be compatible Tensors, which means x has to be the same shape\n",
    "                                    ##and rank as W.\n",
    "y = tf.add(Wx ,b , name=\"y\")\n",
    "\n",
    "# y_ = x - b\n",
    "\n",
    "y_ = tf.subtract(x , b , name=\"y_\")\n",
    "\n",
    "\n",
    "sess = tf.Session()"
   ]
  },
  {
   "cell_type": "code",
   "execution_count": 70,
   "metadata": {},
   "outputs": [
    {
     "name": "stdout",
     "output_type": "stream",
     "text": [
      "intermediate value : [  30 3300]\n"
     ]
    },
    {
     "data": {
      "text/plain": [
       "None"
      ]
     },
     "metadata": {},
     "output_type": "display_data"
    },
    {
     "name": "stdout",
     "output_type": "stream",
     "text": [
      "Final value : Wx + b =  [  57 5009]\n"
     ]
    },
    {
     "data": {
      "text/plain": [
       "None"
      ]
     },
     "metadata": {},
     "output_type": "display_data"
    },
    {
     "name": "stdout",
     "output_type": "stream",
     "text": [
      "for intermedite value of Wx :=  [ 107 1009]\n"
     ]
    },
    {
     "data": {
      "text/plain": [
       "None"
      ]
     },
     "metadata": {},
     "output_type": "display_data"
    },
    {
     "name": "stdout",
     "output_type": "stream",
     "text": [
      "Two results :[Wx + b , x-b] =  [array([  57, 5009]), array([-2, 41])]\n"
     ]
    },
    {
     "data": {
      "text/plain": [
       "None"
      ]
     },
     "metadata": {},
     "output_type": "display_data"
    }
   ],
   "source": [
    "display(print(\"intermediate value :\" , sess.run(Wx , feed_dict={x:[3,33]})))\n",
    "display(print(\"Final value : Wx + b = \" , sess.run(y , feed_dict={x:[5 , 50] , b:[7 ,9]})))\n",
    "\n",
    "## Think of every Session.run as an independent calculation of the node that we've specified\n",
    "\n",
    "# you do not need to specify every value from scratch. You can also specify intermediate values\n",
    "## to run y let's specify Wx directly instead of specifying x\n",
    "\n",
    "display(print(\"for intermedite value of Wx := \" , sess.run(fetches=y , feed_dict={Wx:[100 , 1000] , b:[7 ,9]})))\n",
    "\n",
    "## You can mention fetches=node or its same by default\n",
    "#Allowing us to specify intermediate values is very useful for debugging.\n",
    "\n",
    "\n",
    "#We want to calculate the values of the nodes y as well as y_ in the same Session.run statement.\n",
    "#The fetches parameter should simply be an array which contains all the nodes that you want computed.\n",
    "\n",
    "\n",
    "display(print(\"Two results :[Wx + b , x-b] = \" ,sess.run(fetches=[y , y_] , feed_dict={x:[5,50] , b :[7,9]})))\n",
    "\n",
    "sess.close()\n"
   ]
  },
  {
   "cell_type": "markdown",
   "metadata": {},
   "source": [
    "## variables\n",
    "\n",
    "Variables in TensorFlow are constructs which allow you to change the value that is stored within them\n",
    ".Variables are mutable Tensor values that persist across multiple calls to Session.run. They hold their value 'til they're explicitly updated."
   ]
  },
  {
   "cell_type": "code",
   "execution_count": 76,
   "metadata": {},
   "outputs": [
    {
     "name": "stdout",
     "output_type": "stream",
     "text": [
      "Final result : Wx + b  =  [  30.  410.]\n"
     ]
    }
   ],
   "source": [
    "# y =Wx + b\n",
    "\n",
    "W = tf.Variable([2.5,4.0] , tf.float32 , name=\"var_w\")\n",
    "\n",
    "x = tf.placeholder(tf.float32 ,name = 'x')\n",
    "\n",
    "b = tf.Variable([5.0,10.0] ,tf.float32 , name = \"var_b\")\n",
    "\n",
    "y = W*x + b\n",
    "\n",
    "## Initialize variables\n",
    "\n",
    "init = tf.global_variables_initializer()  ## this is alsp a computation node\n",
    "\n",
    "with tf.Session() as sess:    ## easy way to run multiple sessions\n",
    "    \n",
    "    sess.run(init)  ## otherwise error will be thrown\n",
    "    print(\"Final result : Wx + b  = \" ,(sess.run(y , feed_dict={x:[10 , 100]})))\n",
    "    \n",
    "    "
   ]
  },
  {
   "cell_type": "code",
   "execution_count": 79,
   "metadata": {},
   "outputs": [
    {
     "name": "stdout",
     "output_type": "stream",
     "text": [
      "Result : Wx = [  25.  400.]\n"
     ]
    }
   ],
   "source": [
    "# s = W*x\n",
    "\n",
    "s = W*x\n",
    "\n",
    "## Initialize only those value which you might need\n",
    "\n",
    "init = tf.variables_initializer([W])\n",
    "with tf.Session() as sess :   ## this will be a seperate session\n",
    "    \n",
    "    sess.run(init)\n",
    "    #print(\"this will throw error\" , (sess.run(y , feed_dict={x:[10 , 100]})))\n",
    "    print(\"Result : Wx =\" , sess.run(s,feed_dict={x:[10 , 100]}))\n",
    "    \n"
   ]
  },
  {
   "cell_type": "markdown",
   "metadata": {},
   "source": [
    "#### Let's see How variables got Updated during Computation\n",
    "\n"
   ]
  },
  {
   "cell_type": "code",
   "execution_count": 82,
   "metadata": {},
   "outputs": [
    {
     "name": "stdout",
     "output_type": "stream",
     "text": [
      "Result : number*Multiplier 2\n",
      "increment in multiplier ,updated value = 2\n",
      "Result : number*Multiplier 4\n",
      "increment in multiplier ,updated value = 3\n",
      "Result : number*Multiplier 12\n",
      "increment in multiplier ,updated value = 4\n",
      "Result : number*Multiplier 48\n",
      "increment in multiplier ,updated value = 5\n",
      "Result : number*Multiplier 240\n",
      "increment in multiplier ,updated value = 6\n",
      "Result : number*Multiplier 1440\n",
      "increment in multiplier ,updated value = 7\n",
      "Result : number*Multiplier 10080\n",
      "increment in multiplier ,updated value = 8\n",
      "Result : number*Multiplier 80640\n",
      "increment in multiplier ,updated value = 9\n",
      "Result : number*Multiplier 725760\n",
      "increment in multiplier ,updated value = 10\n",
      "Result : number*Multiplier 7257600\n",
      "increment in multiplier ,updated value = 11\n",
      "see the updated values\n"
     ]
    }
   ],
   "source": [
    "number = tf.Variable(2)\n",
    "multiplier = tf.Variable(1)\n",
    "\n",
    "init = tf.global_variables_initializer()\n",
    "\n",
    "result = number.assign(tf.multiply(number ,multiplier)) ## result is computation node\n",
    "\n",
    "with tf.Session() as sess:\n",
    "    sess.run(init)\n",
    "    \n",
    "    for i in range(10):\n",
    "        print(\"Result : number*Multiplier\" , sess.run(result))\n",
    "        print(\"increment in multiplier ,updated value =\" , sess.run(multiplier.assign_add(1)))\n",
    "    print(\"see the updated values\")    \n",
    "\n"
   ]
  },
  {
   "cell_type": "markdown",
   "metadata": {},
   "source": [
    "### Let's See How to define multiple graph and view them"
   ]
  },
  {
   "cell_type": "code",
   "execution_count": null,
   "metadata": {},
   "outputs": [],
   "source": [
    "g1 = tf.Graph()\n",
    "with g1.as_default():\n",
    "    with tf.Session as sess:\n",
    "        \n",
    "        \"\"\"\n",
    "        \n",
    "        run your code here\n",
    "        \n",
    "        \n",
    "        use assert statement to confirm\n",
    "        \n",
    "        \n",
    "        assert y.graph is g1\n",
    "        \"\"\"\n",
    "\n",
    "        \n",
    "g2 = tf.Graph()\n",
    "with g2.as_default():\n",
    "    with tf.Session as sess:\n",
    "        \n",
    "        \"\"\"\n",
    "        \n",
    "        run your code here\n",
    "        \n",
    "        \n",
    "        use assert statement to confirm \n",
    "        \n",
    "        assert y.graph is g2\n",
    "        \n",
    "        \"\"\"    "
   ]
  },
  {
   "cell_type": "markdown",
   "metadata": {},
   "source": [
    "## Name Scope"
   ]
  },
  {
   "cell_type": "markdown",
   "metadata": {},
   "source": [
    "We really need a way to organize things in TensorBoard, and this we can do using named scopes."
   ]
  },
  {
   "cell_type": "markdown",
   "metadata": {},
   "source": [
    "Named scopes let you logically group your computations and see how data flows."
   ]
  },
  {
   "cell_type": "code",
   "execution_count": 98,
   "metadata": {},
   "outputs": [
    {
     "name": "stdout",
     "output_type": "stream",
     "text": [
      "[256]\n"
     ]
    },
    {
     "data": {
      "text/html": [
       "\n",
       "        <iframe seamless style=\"width:1200px;height:620px;border:0\" srcdoc=\"\n",
       "        <script src=&quot;//cdnjs.cloudflare.com/ajax/libs/polymer/0.3.3/platform.js&quot;></script>\n",
       "        <script>\n",
       "          function load() {\n",
       "            document.getElementById(&quot;graph0.4633159071515035&quot;).pbtxt = 'node {\\n  name: &quot;A&quot;\\n  op: &quot;Const&quot;\\n  attr {\\n    key: &quot;dtype&quot;\\n    value {\\n      type: DT_INT32\\n    }\\n  }\\n  attr {\\n    key: &quot;value&quot;\\n    value {\\n      tensor {\\n        dtype: DT_INT32\\n        tensor_shape {\\n          dim {\\n            size: 1\\n          }\\n        }\\n        int_val: 4\\n      }\\n    }\\n  }\\n}\\nnode {\\n  name: &quot;B&quot;\\n  op: &quot;Const&quot;\\n  attr {\\n    key: &quot;dtype&quot;\\n    value {\\n      type: DT_INT32\\n    }\\n  }\\n  attr {\\n    key: &quot;value&quot;\\n    value {\\n      tensor {\\n        dtype: DT_INT32\\n        tensor_shape {\\n          dim {\\n            size: 1\\n          }\\n        }\\n        int_val: 5\\n      }\\n    }\\n  }\\n}\\nnode {\\n  name: &quot;C&quot;\\n  op: &quot;Const&quot;\\n  attr {\\n    key: &quot;dtype&quot;\\n    value {\\n      type: DT_INT32\\n    }\\n  }\\n  attr {\\n    key: &quot;value&quot;\\n    value {\\n      tensor {\\n        dtype: DT_INT32\\n        tensor_shape {\\n          dim {\\n            size: 1\\n          }\\n        }\\n        int_val: 6\\n      }\\n    }\\n  }\\n}\\nnode {\\n  name: &quot;x&quot;\\n  op: &quot;Placeholder&quot;\\n  attr {\\n    key: &quot;dtype&quot;\\n    value {\\n      type: DT_INT32\\n    }\\n  }\\n  attr {\\n    key: &quot;shape&quot;\\n    value {\\n      shape {\\n        unknown_rank: true\\n      }\\n    }\\n  }\\n}\\nnode {\\n  name: &quot;Pow/y&quot;\\n  op: &quot;Const&quot;\\n  attr {\\n    key: &quot;dtype&quot;\\n    value {\\n      type: DT_INT32\\n    }\\n  }\\n  attr {\\n    key: &quot;value&quot;\\n    value {\\n      tensor {\\n        dtype: DT_INT32\\n        tensor_shape {\\n        }\\n        int_val: 2\\n      }\\n    }\\n  }\\n}\\nnode {\\n  name: &quot;Pow&quot;\\n  op: &quot;Pow&quot;\\n  input: &quot;x&quot;\\n  input: &quot;Pow/y&quot;\\n  attr {\\n    key: &quot;T&quot;\\n    value {\\n      type: DT_INT32\\n    }\\n  }\\n}\\nnode {\\n  name: &quot;Ax2_1&quot;\\n  op: &quot;Mul&quot;\\n  input: &quot;A&quot;\\n  input: &quot;Pow&quot;\\n  attr {\\n    key: &quot;T&quot;\\n    value {\\n      type: DT_INT32\\n    }\\n  }\\n}\\nnode {\\n  name: &quot;Bx&quot;\\n  op: &quot;Mul&quot;\\n  input: &quot;B&quot;\\n  input: &quot;x&quot;\\n  attr {\\n    key: &quot;T&quot;\\n    value {\\n      type: DT_INT32\\n    }\\n  }\\n}\\nnode {\\n  name: &quot;y1&quot;\\n  op: &quot;AddN&quot;\\n  input: &quot;Ax2_1&quot;\\n  input: &quot;Bx&quot;\\n  input: &quot;C&quot;\\n  attr {\\n    key: &quot;N&quot;\\n    value {\\n      i: 3\\n    }\\n  }\\n  attr {\\n    key: &quot;T&quot;\\n    value {\\n      type: DT_INT32\\n    }\\n  }\\n}\\nnode {\\n  name: &quot;Pow_1/y&quot;\\n  op: &quot;Const&quot;\\n  attr {\\n    key: &quot;dtype&quot;\\n    value {\\n      type: DT_INT32\\n    }\\n  }\\n  attr {\\n    key: &quot;value&quot;\\n    value {\\n      tensor {\\n        dtype: DT_INT32\\n        tensor_shape {\\n        }\\n        int_val: 2\\n      }\\n    }\\n  }\\n}\\nnode {\\n  name: &quot;Pow_1&quot;\\n  op: &quot;Pow&quot;\\n  input: &quot;x&quot;\\n  input: &quot;Pow_1/y&quot;\\n  attr {\\n    key: &quot;T&quot;\\n    value {\\n      type: DT_INT32\\n    }\\n  }\\n}\\nnode {\\n  name: &quot;Ax2_2&quot;\\n  op: &quot;Mul&quot;\\n  input: &quot;A&quot;\\n  input: &quot;Pow_1&quot;\\n  attr {\\n    key: &quot;T&quot;\\n    value {\\n      type: DT_INT32\\n    }\\n  }\\n}\\nnode {\\n  name: &quot;Bx2&quot;\\n  op: &quot;Mul&quot;\\n  input: &quot;B&quot;\\n  input: &quot;x&quot;\\n  attr {\\n    key: &quot;T&quot;\\n    value {\\n      type: DT_INT32\\n    }\\n  }\\n}\\nnode {\\n  name: &quot;y2&quot;\\n  op: &quot;AddN&quot;\\n  input: &quot;Ax2_1&quot;\\n  input: &quot;Bx&quot;\\n  attr {\\n    key: &quot;N&quot;\\n    value {\\n      i: 2\\n    }\\n  }\\n  attr {\\n    key: &quot;T&quot;\\n    value {\\n      type: DT_INT32\\n    }\\n  }\\n}\\nnode {\\n  name: &quot;add&quot;\\n  op: &quot;Add&quot;\\n  input: &quot;y1&quot;\\n  input: &quot;y2&quot;\\n  attr {\\n    key: &quot;T&quot;\\n    value {\\n      type: DT_INT32\\n    }\\n  }\\n}\\n';\n",
       "          }\n",
       "        </script>\n",
       "        <link rel=&quot;import&quot; href=&quot;https://tensorboard.appspot.com/tf-graph-basic.build.html&quot; onload=load()>\n",
       "        <div style=&quot;height:600px&quot;>\n",
       "          <tf-graph-basic id=&quot;graph0.4633159071515035&quot;></tf-graph-basic>\n",
       "        </div>\n",
       "    \"></iframe>\n",
       "    "
      ],
      "text/plain": [
       "<IPython.core.display.HTML object>"
      ]
     },
     "metadata": {},
     "output_type": "display_data"
    }
   ],
   "source": [
    "g = tf.Graph()\n",
    "\n",
    "with g.as_default():\n",
    "    with tf.Session() as sess:\n",
    "        \n",
    "        A = tf.constant([4], tf.int32 , name=\"A\")\n",
    "        B = tf.constant([5], tf.int32 , name=\"B\")\n",
    "        C = tf.constant([6], tf.int32 , name=\"C\")\n",
    "        \n",
    "        x = tf.placeholder(tf.int32  ,  name ='x')\n",
    "        \n",
    "        # Ax^2 + Bx+ C \n",
    "        \n",
    "        Ax2_1 = tf.multiply(A ,tf.pow(x,2) , name = \"Ax2_1\")\n",
    "        \n",
    "        Bx = tf.multiply(B ,x ,name = \"Bx\")\n",
    "        y1 = tf.add_n([Ax2_1 ,Bx ,C] , name = \"y1\")\n",
    "        \n",
    "        \n",
    "        # y = Ax^2+Bx^2\n",
    "        Ax2_2 = tf.multiply(A ,tf.pow(x,2) , name = \"Ax2_2\")\n",
    "        \n",
    "        Bx2 = tf.multiply(B ,x ,name = \"Bx2\")\n",
    "        y2 = tf.add_n([Ax2_1 ,Bx] , name = \"y2\")\n",
    "        \n",
    "        \n",
    "        y = y1+y2\n",
    "        \n",
    "        print(sess.run(y , feed_dict={x:[5]}))\n",
    "        \n",
    "        tf.summary.FileWriter(\"logs\", g).close()  ## Open the graph\n",
    "        show_graph(g)\n",
    "        \n",
    "        \n",
    "    "
   ]
  },
  {
   "cell_type": "markdown",
   "metadata": {},
   "source": [
    "#### Here you can see that this graph became so much complicated and hard to visualize and see the flow of computation\n",
    "\n",
    "### Let's use name scope for same comptation"
   ]
  },
  {
   "cell_type": "markdown",
   "metadata": {},
   "source": [
    "We have three named scopes in this program. The first two named scopes feed into the third. Think of these named scopes as logical blocks of code that you might want to debug separately in TensorBoard."
   ]
  },
  {
   "cell_type": "code",
   "execution_count": 101,
   "metadata": {},
   "outputs": [
    {
     "name": "stdout",
     "output_type": "stream",
     "text": [
      "[256]\n"
     ]
    },
    {
     "data": {
      "text/html": [
       "\n",
       "        <iframe seamless style=\"width:1200px;height:620px;border:0\" srcdoc=\"\n",
       "        <script src=&quot;//cdnjs.cloudflare.com/ajax/libs/polymer/0.3.3/platform.js&quot;></script>\n",
       "        <script>\n",
       "          function load() {\n",
       "            document.getElementById(&quot;graph0.279897681115583&quot;).pbtxt = 'node {\\n  name: &quot;A&quot;\\n  op: &quot;Const&quot;\\n  attr {\\n    key: &quot;dtype&quot;\\n    value {\\n      type: DT_INT32\\n    }\\n  }\\n  attr {\\n    key: &quot;value&quot;\\n    value {\\n      tensor {\\n        dtype: DT_INT32\\n        tensor_shape {\\n          dim {\\n            size: 1\\n          }\\n        }\\n        int_val: 4\\n      }\\n    }\\n  }\\n}\\nnode {\\n  name: &quot;B&quot;\\n  op: &quot;Const&quot;\\n  attr {\\n    key: &quot;dtype&quot;\\n    value {\\n      type: DT_INT32\\n    }\\n  }\\n  attr {\\n    key: &quot;value&quot;\\n    value {\\n      tensor {\\n        dtype: DT_INT32\\n        tensor_shape {\\n          dim {\\n            size: 1\\n          }\\n        }\\n        int_val: 5\\n      }\\n    }\\n  }\\n}\\nnode {\\n  name: &quot;C&quot;\\n  op: &quot;Const&quot;\\n  attr {\\n    key: &quot;dtype&quot;\\n    value {\\n      type: DT_INT32\\n    }\\n  }\\n  attr {\\n    key: &quot;value&quot;\\n    value {\\n      tensor {\\n        dtype: DT_INT32\\n        tensor_shape {\\n          dim {\\n            size: 1\\n          }\\n        }\\n        int_val: 6\\n      }\\n    }\\n  }\\n}\\nnode {\\n  name: &quot;x&quot;\\n  op: &quot;Placeholder&quot;\\n  attr {\\n    key: &quot;dtype&quot;\\n    value {\\n      type: DT_INT32\\n    }\\n  }\\n  attr {\\n    key: &quot;shape&quot;\\n    value {\\n      shape {\\n        unknown_rank: true\\n      }\\n    }\\n  }\\n}\\nnode {\\n  name: &quot;Equation_1/Pow/y&quot;\\n  op: &quot;Const&quot;\\n  attr {\\n    key: &quot;dtype&quot;\\n    value {\\n      type: DT_INT32\\n    }\\n  }\\n  attr {\\n    key: &quot;value&quot;\\n    value {\\n      tensor {\\n        dtype: DT_INT32\\n        tensor_shape {\\n        }\\n        int_val: 2\\n      }\\n    }\\n  }\\n}\\nnode {\\n  name: &quot;Equation_1/Pow&quot;\\n  op: &quot;Pow&quot;\\n  input: &quot;x&quot;\\n  input: &quot;Equation_1/Pow/y&quot;\\n  attr {\\n    key: &quot;T&quot;\\n    value {\\n      type: DT_INT32\\n    }\\n  }\\n}\\nnode {\\n  name: &quot;Equation_1/Ax2&quot;\\n  op: &quot;Mul&quot;\\n  input: &quot;A&quot;\\n  input: &quot;Equation_1/Pow&quot;\\n  attr {\\n    key: &quot;T&quot;\\n    value {\\n      type: DT_INT32\\n    }\\n  }\\n}\\nnode {\\n  name: &quot;Equation_1/Bx&quot;\\n  op: &quot;Mul&quot;\\n  input: &quot;B&quot;\\n  input: &quot;x&quot;\\n  attr {\\n    key: &quot;T&quot;\\n    value {\\n      type: DT_INT32\\n    }\\n  }\\n}\\nnode {\\n  name: &quot;Equation_1/y1&quot;\\n  op: &quot;AddN&quot;\\n  input: &quot;Equation_1/Ax2&quot;\\n  input: &quot;Equation_1/Bx&quot;\\n  input: &quot;C&quot;\\n  attr {\\n    key: &quot;N&quot;\\n    value {\\n      i: 3\\n    }\\n  }\\n  attr {\\n    key: &quot;T&quot;\\n    value {\\n      type: DT_INT32\\n    }\\n  }\\n}\\nnode {\\n  name: &quot;Equation_2/Pow/y&quot;\\n  op: &quot;Const&quot;\\n  attr {\\n    key: &quot;dtype&quot;\\n    value {\\n      type: DT_INT32\\n    }\\n  }\\n  attr {\\n    key: &quot;value&quot;\\n    value {\\n      tensor {\\n        dtype: DT_INT32\\n        tensor_shape {\\n        }\\n        int_val: 2\\n      }\\n    }\\n  }\\n}\\nnode {\\n  name: &quot;Equation_2/Pow&quot;\\n  op: &quot;Pow&quot;\\n  input: &quot;x&quot;\\n  input: &quot;Equation_2/Pow/y&quot;\\n  attr {\\n    key: &quot;T&quot;\\n    value {\\n      type: DT_INT32\\n    }\\n  }\\n}\\nnode {\\n  name: &quot;Equation_2/Ax2&quot;\\n  op: &quot;Mul&quot;\\n  input: &quot;A&quot;\\n  input: &quot;Equation_2/Pow&quot;\\n  attr {\\n    key: &quot;T&quot;\\n    value {\\n      type: DT_INT32\\n    }\\n  }\\n}\\nnode {\\n  name: &quot;Equation_2/Bx2&quot;\\n  op: &quot;Mul&quot;\\n  input: &quot;B&quot;\\n  input: &quot;x&quot;\\n  attr {\\n    key: &quot;T&quot;\\n    value {\\n      type: DT_INT32\\n    }\\n  }\\n}\\nnode {\\n  name: &quot;Equation_2/y2&quot;\\n  op: &quot;AddN&quot;\\n  input: &quot;Equation_2/Ax2&quot;\\n  input: &quot;Equation_1/Bx&quot;\\n  attr {\\n    key: &quot;N&quot;\\n    value {\\n      i: 2\\n    }\\n  }\\n  attr {\\n    key: &quot;T&quot;\\n    value {\\n      type: DT_INT32\\n    }\\n  }\\n}\\nnode {\\n  name: &quot;final_sum/add&quot;\\n  op: &quot;Add&quot;\\n  input: &quot;Equation_1/y1&quot;\\n  input: &quot;Equation_2/y2&quot;\\n  attr {\\n    key: &quot;T&quot;\\n    value {\\n      type: DT_INT32\\n    }\\n  }\\n}\\n';\n",
       "          }\n",
       "        </script>\n",
       "        <link rel=&quot;import&quot; href=&quot;https://tensorboard.appspot.com/tf-graph-basic.build.html&quot; onload=load()>\n",
       "        <div style=&quot;height:600px&quot;>\n",
       "          <tf-graph-basic id=&quot;graph0.279897681115583&quot;></tf-graph-basic>\n",
       "        </div>\n",
       "    \"></iframe>\n",
       "    "
      ],
      "text/plain": [
       "<IPython.core.display.HTML object>"
      ]
     },
     "metadata": {},
     "output_type": "display_data"
    }
   ],
   "source": [
    "g = tf.Graph()   \n",
    "with g.as_default():\n",
    "    A = tf.constant([4], tf.int32 , name=\"A\")\n",
    "    B = tf.constant([5], tf.int32 , name=\"B\")\n",
    "    C = tf.constant([6], tf.int32 , name=\"C\")\n",
    "\n",
    "    x = tf.placeholder(tf.int32  ,  name ='x')\n",
    "\n",
    "    # Ax^2 + Bx+ C \n",
    "    with tf.name_scope(\"Equation_1\"):\n",
    "        Ax2 = tf.multiply(A ,tf.pow(x,2) , name = \"Ax2\")\n",
    "\n",
    "        Bx = tf.multiply(B ,x ,name = \"Bx\")\n",
    "        y1 = tf.add_n([Ax2 ,Bx ,C] , name = \"y1\")\n",
    "\n",
    "\n",
    "    # y = Ax^2+Bx^2\n",
    "    with tf.name_scope(\"Equation_2\"):\n",
    "        Ax2 = tf.multiply(A ,tf.pow(x,2) , name = \"Ax2\")\n",
    "\n",
    "        Bx2 = tf.multiply(B ,x ,name = \"Bx2\")\n",
    "        y2 = tf.add_n([Ax2 ,Bx] , name = \"y2\")\n",
    "\n",
    "    with tf.name_scope(\"final_sum\"):\n",
    "        y = y1+y2\n",
    "    with tf.Session() as sess:\n",
    "        \n",
    "        print(sess.run(y , feed_dict={x:[5]}))\n",
    "\n",
    "tf.summary.FileWriter(\"logs\", g).close()  ## Open the graph\n",
    "show_graph(g)\n"
   ]
  },
  {
   "cell_type": "markdown",
   "metadata": {},
   "source": [
    "### We can see that Now our graph loks Much better and we can debug it easily because of different blocks of \n",
    "### code\n",
    "When you work on real machine learning programs with thousands of nodes, named scopes are an extremely handy tool to manage how your graph looks and to enable debugging."
   ]
  },
  {
   "cell_type": "markdown",
   "metadata": {},
   "source": [
    "### Interactive  sessions in TensorFlow \n",
    "\n",
    "Interactive sessions allow you to work with a session in TensorFlow without holding a reference to the session instance."
   ]
  },
  {
   "cell_type": "code",
   "execution_count": 114,
   "metadata": {},
   "outputs": [
    {
     "name": "stderr",
     "output_type": "stream",
     "text": [
      "C:\\ProgramData\\Anaconda3\\lib\\site-packages\\tensorflow\\python\\client\\session.py:1711: UserWarning: An interactive session is already active. This can cause out-of-memory errors in some cases. You must explicitly call `InteractiveSession.close()` to release resources held by the other session(s).\n",
      "  warnings.warn('An interactive session is already active. This can '\n"
     ]
    },
    {
     "data": {
      "text/plain": [
       "array([20])"
      ]
     },
     "execution_count": 114,
     "metadata": {},
     "output_type": "execute_result"
    }
   ],
   "source": [
    "sess = tf.InteractiveSession() #Storing it in the sess variable is not required if you're using interactive sessions\n",
    "A = tf.constant([4] , tf.int32 , name = \"A\")\n",
    "x = tf.placeholder(tf.int32 , name = 'x')\n",
    "\n",
    "y = A*x\n",
    "\n",
    "y.eval(feed_dict={x:[5]}) #We can simply run y.eval, and it'll automatically pick up the default interactive session\n",
    "\n"
   ]
  },
  {
   "cell_type": "markdown",
   "metadata": {},
   "source": [
    "#### Running   y.eval    with an interactive session is the equivalent of    tf.get_default_session().run(y)\n",
    "\n",
    "nteractive sessions function exactly like regular sessions except that it makes writing TensorFlow code much less cumbersome"
   ]
  },
  {
   "cell_type": "markdown",
   "metadata": {},
   "source": [
    "### Quick Overview: Linear Regression in TensorFlow\n",
    "\n",
    "\n",
    "This was a quick overview of linear regression implemented in TensorFlow for the sake of completeness. "
   ]
  },
  {
   "cell_type": "code",
   "execution_count": null,
   "metadata": {},
   "outputs": [],
   "source": []
  }
 ],
 "metadata": {
  "kernelspec": {
   "display_name": "Python 3",
   "language": "python",
   "name": "python3"
  },
  "language_info": {
   "codemirror_mode": {
    "name": "ipython",
    "version": 3
   },
   "file_extension": ".py",
   "mimetype": "text/x-python",
   "name": "python",
   "nbconvert_exporter": "python",
   "pygments_lexer": "ipython3",
   "version": "3.6.5"
  }
 },
 "nbformat": 4,
 "nbformat_minor": 2
}
